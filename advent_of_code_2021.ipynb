{
  "nbformat": 4,
  "nbformat_minor": 0,
  "metadata": {
    "colab": {
      "name": "advent-of-code-2021.ipynb",
      "provenance": [],
      "collapsed_sections": [],
      "mount_file_id": "1vvHoNz4H4bBlPLiLD47XLChaTr0CXrTC",
      "authorship_tag": "ABX9TyM0EKAqZlYrTqEQKdBR05eF",
      "include_colab_link": true
    },
    "kernelspec": {
      "name": "python3",
      "display_name": "Python 3"
    },
    "language_info": {
      "name": "python"
    }
  },
  "cells": [
    {
      "cell_type": "markdown",
      "metadata": {
        "id": "view-in-github",
        "colab_type": "text"
      },
      "source": [
        "<a href=\"https://colab.research.google.com/github/sshilin/aoc2021/blob/master/advent_of_code_2021.ipynb\" target=\"_parent\"><img src=\"https://colab.research.google.com/assets/colab-badge.svg\" alt=\"Open In Colab\"/></a>"
      ]
    },
    {
      "cell_type": "markdown",
      "source": [
        "# Mount inputs"
      ],
      "metadata": {
        "id": "GAiz-o2R84ze"
      }
    },
    {
      "cell_type": "code",
      "source": [
        "! rm -rf aoc\n",
        "! git clone --depth 1 -b master https://github.com/sshilin/aoc2021 aoc"
      ],
      "metadata": {
        "colab": {
          "base_uri": "https://localhost:8080/"
        },
        "id": "DdNRu5_TAYqi",
        "outputId": "c7df16be-33ff-463b-a571-5b771d41455e"
      },
      "execution_count": 5,
      "outputs": [
        {
          "output_type": "stream",
          "name": "stdout",
          "text": [
            "Cloning into 'aoc'...\n",
            "remote: Enumerating objects: 24, done.\u001b[K\n",
            "remote: Counting objects: 100% (24/24), done.\u001b[K\n",
            "remote: Compressing objects: 100% (16/16), done.\u001b[K\n",
            "remote: Total 24 (delta 0), reused 21 (delta 0), pack-reused 0\u001b[K\n",
            "Unpacking objects: 100% (24/24), done.\n"
          ]
        }
      ]
    },
    {
      "cell_type": "markdown",
      "metadata": {
        "id": "UOqN9jg7I_DW"
      },
      "source": [
        "# Day 1"
      ]
    },
    {
      "cell_type": "code",
      "metadata": {
        "colab": {
          "base_uri": "https://localhost:8080/"
        },
        "id": "XFG-C339Gx5U",
        "outputId": "5c962b47-db2b-4811-a3ef-fe38ab38dc2b"
      },
      "source": [
        "input = [int(s) for s in open('aoc/inputs/day01.txt').readlines()]\n",
        "res = sum((1 if a < b else 0) for a, b in zip(input, input[1:]))\n",
        "print(f\"Result: {res}\")"
      ],
      "execution_count": 6,
      "outputs": [
        {
          "output_type": "stream",
          "name": "stdout",
          "text": [
            "Result: 1616\n"
          ]
        }
      ]
    },
    {
      "cell_type": "code",
      "metadata": {
        "id": "q4S49Y4yHA47",
        "colab": {
          "base_uri": "https://localhost:8080/"
        },
        "outputId": "066641ed-588d-48d1-eca0-039aaead9952"
      },
      "source": [
        "input = [int(s) for s in open('aoc/inputs/day01.txt').readlines()]\n",
        "sum3 = [sum(x) for x in zip(input,input[1:],input[2:])]\n",
        "res = sum((1 if a < b else 0) for a, b in zip(sum3, sum3[1:])) \n",
        "print(f\"Result: {res}\")"
      ],
      "execution_count": 7,
      "outputs": [
        {
          "output_type": "stream",
          "name": "stdout",
          "text": [
            "Result: 1645\n"
          ]
        }
      ]
    },
    {
      "cell_type": "markdown",
      "metadata": {
        "id": "i2M_LX6VBl-n"
      },
      "source": [
        "# Day 2"
      ]
    },
    {
      "cell_type": "code",
      "metadata": {
        "colab": {
          "base_uri": "https://localhost:8080/"
        },
        "id": "mQri8sAFBm5u",
        "outputId": "52e2f7f3-f866-4b72-da4b-c552787d34a9"
      },
      "source": [
        "input = open('aoc/inputs/day02.txt').read().splitlines()\n",
        "\n",
        "pos = 0\n",
        "depth = 0\n",
        "\n",
        "for i in input:\n",
        "  dir = str.split(i)[0]\n",
        "  amount = int(str.split(i)[1], 10)\n",
        "  if dir == 'forward':\n",
        "    pos += amount\n",
        "  elif dir == 'up':\n",
        "    depth -= amount\n",
        "  else:\n",
        "    depth += amount\n",
        "\n",
        "print(f'Result: {pos*depth}')"
      ],
      "execution_count": 2,
      "outputs": [
        {
          "output_type": "stream",
          "name": "stdout",
          "text": [
            "Result: 1451208\n"
          ]
        }
      ]
    },
    {
      "cell_type": "code",
      "metadata": {
        "colab": {
          "base_uri": "https://localhost:8080/"
        },
        "id": "0Z-OAYwIC9VV",
        "outputId": "16c58198-8ab3-45c2-cb9d-14b073729122"
      },
      "source": [
        "input = open('aoc/inputs/day02.txt').read().splitlines()\n",
        "\n",
        "pos = 0\n",
        "depth = 0\n",
        "aim = 0\n",
        "\n",
        "for i in input:\n",
        "  dir = str.split(i)[0]\n",
        "  amount = int(str.split(i)[1], 10)\n",
        "\n",
        "  if dir == 'forward':\n",
        "    pos += amount\n",
        "    depth += amount*aim\n",
        "  elif dir == 'up':\n",
        "    aim -= amount\n",
        "  else:\n",
        "    aim += amount\n",
        "\n",
        "print(f'Result: {pos*depth}')"
      ],
      "execution_count": 10,
      "outputs": [
        {
          "output_type": "stream",
          "name": "stdout",
          "text": [
            "Result: 1620141160\n"
          ]
        }
      ]
    },
    {
      "cell_type": "markdown",
      "metadata": {
        "id": "OW1IyqcjttvH"
      },
      "source": [
        "# Day 3"
      ]
    },
    {
      "cell_type": "code",
      "metadata": {
        "id": "qTAFxtBjuICC"
      },
      "source": [
        "# common\n",
        "input = open('aoc/inputs/day03.txt').read().splitlines()\n",
        "\n",
        "from typing import List\n",
        "\n",
        "def countOnes(vals: List[str], pos: int) -> int:\n",
        "  count = 0\n",
        "  for v in vals:\n",
        "    if v[pos] == '1':\n",
        "      count +=1\n",
        "  return count"
      ],
      "execution_count": 11,
      "outputs": []
    },
    {
      "cell_type": "code",
      "metadata": {
        "colab": {
          "base_uri": "https://localhost:8080/"
        },
        "id": "gMQtIptilw0p",
        "outputId": "2017a73d-71a7-4476-ae59-55da822a6790"
      },
      "source": [
        "gamma = 0\n",
        "for i in range(len(input[0])):\n",
        "  gamma <<= 1\n",
        "  if countOnes(input, i) > len(input) - countOnes(input, i):\n",
        "    gamma |= 1\n",
        "sigma = (~gamma)&(1 << len(input[0]))-1\n",
        "\n",
        "print(f\"Result: {gamma * sigma}\")"
      ],
      "execution_count": 12,
      "outputs": [
        {
          "output_type": "stream",
          "name": "stdout",
          "text": [
            "Result: 4174964\n"
          ]
        }
      ]
    },
    {
      "cell_type": "code",
      "metadata": {
        "colab": {
          "base_uri": "https://localhost:8080/"
        },
        "id": "5rc4kAaZteue",
        "outputId": "af9c91cb-1d08-4446-f5a6-12175a88d7b2"
      },
      "source": [
        "oxigen_idx = list(range(len(input)))\n",
        "co2_idx = list(range(len(input)))\n",
        "\n",
        "for pos in range(len(input[0])):\n",
        "  oxigen = [input[idx] for idx in oxigen_idx]\n",
        "  if countOnes(oxigen, pos) > len(oxigen_idx) - countOnes(oxigen, pos): # most common 1\n",
        "    oxigen_idx = [i for i in oxigen_idx if input[i][pos] == '1' ] # keep 1\n",
        "  elif len(oxigen_idx) - countOnes(oxigen, pos) > countOnes(oxigen, pos): # most common 0\n",
        "    oxigen_idx = [i for i in oxigen_idx if input[i][pos] == '0' ] # keep 0\n",
        "  elif len(oxigen_idx) - countOnes(oxigen, pos) == countOnes(oxigen, pos): # 1 == 0\n",
        "    oxigen_idx = [i for i in oxigen_idx if input[i][pos] == '1' ] # keep 1\n",
        "  if len(oxigen_idx) == 1:\n",
        "    break\n",
        "\n",
        "for pos in range(len(input[0])):\n",
        "  co2 = [input[idx] for idx in co2_idx]\n",
        "  if countOnes(co2, pos) < len(co2_idx) - countOnes(co2, pos): # less common 1\n",
        "    co2_idx = [i for i in co2_idx if input[i][pos] == '1' ] # keep 1\n",
        "  elif len(co2_idx) - countOnes(co2, pos) < countOnes(co2, pos): # less common 0\n",
        "    co2_idx = [i for i in co2_idx if input[i][pos] == '0' ] # keep 0\n",
        "  elif len(co2_idx) - countOnes(co2, pos) == countOnes(co2, pos): # 1 == 0\n",
        "    co2_idx = [i for i in co2_idx if input[i][pos] == '0' ] # keep 0\n",
        "  if len(co2_idx) == 1:\n",
        "    break\n",
        "\n",
        "print(f\"Result: {int(input[oxigen_idx[0]], 2) * int(input[co2_idx[0]], 2)}\")"
      ],
      "execution_count": 13,
      "outputs": [
        {
          "output_type": "stream",
          "name": "stdout",
          "text": [
            "Result: 4474944\n"
          ]
        }
      ]
    },
    {
      "cell_type": "markdown",
      "source": [
        "# Day 5"
      ],
      "metadata": {
        "id": "sXT4JNvgXLLu"
      }
    },
    {
      "cell_type": "code",
      "source": [
        "from collections import defaultdict\n",
        "\n",
        "# Draw vector using Bresenham's line algorithm\n",
        "def draw_vector(x1, y1, x2, y2):\n",
        "  points = []\n",
        "  x, y = x1, y1\n",
        "\n",
        "  dx, sx = 0, 0\n",
        "  if x1 < x2:\n",
        "    sx = 1\n",
        "    dx = x2 - x1\n",
        "  else:\n",
        "    sx = -1\n",
        "    dx = x1 - x2\n",
        "\n",
        "  dy, sy = 0, 0\n",
        "  if y1 < y2:\n",
        "    sy = 1\n",
        "    dy = y1 - y2\n",
        "  else:\n",
        "    sy = -1\n",
        "    dy = y2 - y1\n",
        "\n",
        "  err = dx + dy\n",
        "\n",
        "  while True:\n",
        "    points.append((x, y))\n",
        "    if x == x2 and y == y2: break\n",
        "    e2 = 2 * err\n",
        "    if e2 >= dy:\n",
        "      err += dy\n",
        "      x += sx\n",
        "    if e2 <= dx:\n",
        "      err += dx\n",
        "      y += sy\n",
        "\n",
        "  return points\n",
        "\n",
        "points_part1 = defaultdict(int)\n",
        "points_part2 = defaultdict(int)\n",
        "\n",
        "for line in open('aoc/inputs/day05.txt').read().splitlines():\n",
        "  l, r = line.split(\" -> \")\n",
        "  x1, y1 = l.split(\",\")\n",
        "  x2, y2 = r.split(\",\")\n",
        "\n",
        "  if x1 == x2 or y1 == y2:\n",
        "    for p in draw_vector(int(x1),int(y1),int(x2),int(y2)):\n",
        "      points_part1[p] += 1\n",
        "\n",
        "  for p in draw_vector(int(x1),int(y1),int(x2),int(y2)):\n",
        "    points_part2[p] += 1\n",
        "\n",
        "count1, count2 = 0, 0\n",
        "\n",
        "for p in points_part1:\n",
        "  if points_part1[p] >= 2:\n",
        "    count1 += 1\n",
        "\n",
        "for p in points_part2:\n",
        "  if points_part2[p] >= 2:\n",
        "    count2 += 1\n",
        "\n",
        "print(f\"Part 1: {count1}\")\n",
        "print(f\"Part 2: {count2}\")"
      ],
      "metadata": {
        "id": "Srg3rc-lXMts",
        "colab": {
          "base_uri": "https://localhost:8080/"
        },
        "outputId": "864e4ca0-50fe-4ddf-817b-5262e8780728"
      },
      "execution_count": 14,
      "outputs": [
        {
          "output_type": "stream",
          "name": "stdout",
          "text": [
            "Part 1: 5608\n",
            "Part 2: 20299\n"
          ]
        }
      ]
    },
    {
      "cell_type": "markdown",
      "metadata": {
        "id": "LdyF4MX3sXvh"
      },
      "source": [
        "# Day 6"
      ]
    },
    {
      "cell_type": "code",
      "metadata": {
        "colab": {
          "base_uri": "https://localhost:8080/"
        },
        "id": "BLrRZ2_XsbHZ",
        "outputId": "88c69a82-5270-40a3-c02f-ad1d7d57c86d"
      },
      "source": [
        "input = [int(s) for s in open('aoc/inputs/day06.txt').readline().split(',')]\n",
        "\n",
        "def solve(days: int) -> int:\n",
        "  fish = dict.fromkeys(range(9), 0)\n",
        "  for f in input:\n",
        "      fish[f] +=1\n",
        "  for _ in range(days):\n",
        "    nextFish = dict.fromkeys(range(9), 0)\n",
        "    for key in fish:\n",
        "      if key == 0:\n",
        "          nextFish[6] = fish[0]\n",
        "          nextFish[8] = fish[0]\n",
        "      else:\n",
        "        nextFish[key-1] += fish[key]\n",
        "    fish = nextFish\n",
        "  return sum(fish.values())\n",
        "\n",
        "print(f\"Part1: {solve(days = 80)}\")\n",
        "print(f\"Part2: {solve(days = 256)}\")"
      ],
      "execution_count": null,
      "outputs": [
        {
          "output_type": "stream",
          "name": "stdout",
          "text": [
            "Part1: 362740\n",
            "Part2: 1644874076764\n"
          ]
        }
      ]
    },
    {
      "cell_type": "markdown",
      "metadata": {
        "id": "uCtBiCai4-5v"
      },
      "source": [
        "# Day 7"
      ]
    },
    {
      "cell_type": "code",
      "metadata": {
        "colab": {
          "base_uri": "https://localhost:8080/"
        },
        "id": "tw4DEUg_5AsQ",
        "outputId": "f37b38f4-7ecb-4904-8870-a228ea0b53c3"
      },
      "source": [
        "input = [int(s) for s in open('aoc/inputs/day07.txt').readline().split(',')]\n",
        "\n",
        "minFuel = float('inf')\n",
        "for pos in range(min(input), max(input)):\n",
        "  fuel = 0\n",
        "  for n in input:\n",
        "    fuel += abs(n - pos)\n",
        "  if fuel < minFuel:\n",
        "    minFuel = fuel\n",
        "print(f\"Part 1: {minFuel}\")\n",
        "\n",
        "minFuel = float('inf')\n",
        "for pos in range(min(input), max(input)):\n",
        "  fuel = 0\n",
        "  for n in input:\n",
        "    fuel += abs(n - pos) * (1 + abs(n - pos)) / 2\n",
        "  if fuel < minFuel:\n",
        "    minFuel = fuel\n",
        "print(f\"Part 2: {int(minFuel)}\")\n",
        "\n",
        "# min([sum([int(abs(n-p)*(1+abs(n-p))/2)for n in input])for p in range(min(input),max(input))])"
      ],
      "execution_count": null,
      "outputs": [
        {
          "output_type": "stream",
          "name": "stdout",
          "text": [
            "Part 1 result: 355521\n",
            "Part 2 result: 100148777\n"
          ]
        }
      ]
    },
    {
      "cell_type": "markdown",
      "source": [
        "# Day 8"
      ],
      "metadata": {
        "id": "CG122bVZUm_d"
      }
    },
    {
      "cell_type": "markdown",
      "source": [
        "## Part 1"
      ],
      "metadata": {
        "id": "gTstjbMGWWFQ"
      }
    },
    {
      "cell_type": "code",
      "source": [
        "result = 0\n",
        "\n",
        "for line in open('aoc/inputs/day08.txt').read().splitlines():\n",
        "  digits = {}\n",
        "  left, right = line.split(' | ')\n",
        "  left = left.split(' ')\n",
        "  right = right.split(' ')\n",
        "  for r in right:\n",
        "    if len(r) == 2 or len(r) == 4 or len(r) == 3 or len(r) == 7:\n",
        "      result += 1\n",
        "print(f\"Result: {result}\")"
      ],
      "metadata": {
        "colab": {
          "base_uri": "https://localhost:8080/"
        },
        "id": "N44oo75TVb2H",
        "outputId": "ad0998c0-38c1-4c5c-d94f-724ef1f1db81"
      },
      "execution_count": null,
      "outputs": [
        {
          "output_type": "stream",
          "name": "stdout",
          "text": [
            "Part 1 result: 440\n"
          ]
        }
      ]
    },
    {
      "cell_type": "markdown",
      "source": [
        "## Part 2"
      ],
      "metadata": {
        "id": "b6GcxGnFWYCd"
      }
    },
    {
      "cell_type": "code",
      "source": [
        "def countMatchingSegments(a, b) -> int:\n",
        "  count = 0\n",
        "  for i in a:\n",
        "    for j in b:\n",
        "      if i == j:\n",
        "        count+=1\n",
        "        continue\n",
        "  return count\n",
        "\n",
        "result = 0\n",
        "\n",
        "for line in open('aoc/inputs/day08.txt').read().splitlines():\n",
        "  digits = {}\n",
        "  left, right = line.split(' | ')\n",
        "  left = left.split(' ')\n",
        "  right = right.split(' ')\n",
        "\n",
        "  # deduce 1\n",
        "  for i in left:\n",
        "    if len(i) == 2: digits[1] = i\n",
        "    elif len(i) == 3: digits[7] = i\n",
        "    elif len(i) == 4: digits[4] = i\n",
        "    elif len(i) == 7: digits[8] = i\n",
        "  # deduce 2\n",
        "  for i in left:\n",
        "    if len(i) == 5 and countMatchingSegments(i, digits[4]) == 2:\n",
        "      digits[2] = i\n",
        "      break\n",
        "  # deduce 3\n",
        "  for i in left:\n",
        "    if len(i) == 5 and countMatchingSegments(i, digits[2]) == 4:\n",
        "      digits[3] = i\n",
        "      break\n",
        "  # deduce 5\n",
        "  for i in left:\n",
        "    if len(i) == 5 and i not in digits.values():\n",
        "      digits[5] = i\n",
        "      break\n",
        "  # deduce 9\n",
        "  for i in left:\n",
        "    if len(i) == 6 and countMatchingSegments(i, digits[3]) == 5:\n",
        "      digits[9] = i\n",
        "      break\n",
        "  # deduce 6\n",
        "  for i in left:\n",
        "    if len(i) == 6 and countMatchingSegments(i, digits[7]) == 2:\n",
        "      digits[6] = i\n",
        "      break\n",
        "  # deduce 0\n",
        "  for i in left:\n",
        "    if len(i) == 6 and i not in digits.values():\n",
        "      digits[0] = i\n",
        "      break\n",
        "  res = \"\"\n",
        "  for r in right:\n",
        "    for k,v in digits.items():\n",
        "      if \"\".join(sorted(r)) == \"\".join(sorted(v)):\n",
        "        res += str(k)\n",
        "        break\n",
        "  result += int(res)\n",
        "\n",
        "print(f\"Result: {result}\")"
      ],
      "metadata": {
        "colab": {
          "base_uri": "https://localhost:8080/"
        },
        "id": "7jY2Upb1_oAz",
        "outputId": "ee9866a0-5b5e-40e8-9cdc-adb4cb43b994"
      },
      "execution_count": null,
      "outputs": [
        {
          "output_type": "stream",
          "name": "stdout",
          "text": [
            "Part 2 result: 1046281\n"
          ]
        }
      ]
    },
    {
      "cell_type": "markdown",
      "source": [
        "# Day 9"
      ],
      "metadata": {
        "id": "nqX_OptG6t3V"
      }
    },
    {
      "cell_type": "markdown",
      "source": [
        "## Part 1"
      ],
      "metadata": {
        "id": "jLbHmJC_BnH2"
      }
    },
    {
      "cell_type": "code",
      "source": [
        "input = []\n",
        "\n",
        "for line in open('aoc/inputs/day09.txt').read().splitlines():\n",
        "  input.append([9] + [int(x) for x in line] + [9])\n",
        "\n",
        "input.insert(0, [9]*len(input[0]))\n",
        "input.append([9]*len(input[0]))\n",
        "\n",
        "rows = len(input)\n",
        "columns = len(input[0])\n",
        "\n",
        "# r,c -> top, right, bottom, left\n",
        "diff = ((-1,0),(0,1),(1,0),(0,-1))\n",
        "\n",
        "def isMin(r,c) -> bool:\n",
        "  for dr, dc in diff:\n",
        "    if input[r+dr][c+dc] < input[r][c]:\n",
        "      return False\n",
        "  return True\n",
        "\n",
        "result = 0\n",
        "for r in range(rows):\n",
        "  for c in range(columns):\n",
        "    if input[r][c] != 9:\n",
        "      if isMin(r, c):\n",
        "        result += input[r][c] + 1\n",
        "\n",
        "print(f\"Result: {result}\")"
      ],
      "metadata": {
        "colab": {
          "base_uri": "https://localhost:8080/"
        },
        "id": "1FDxXkvmzIwP",
        "outputId": "8a59dd6b-8748-4f19-b09e-f5834b4e3526"
      },
      "execution_count": null,
      "outputs": [
        {
          "output_type": "stream",
          "name": "stdout",
          "text": [
            "Result: 417\n"
          ]
        }
      ]
    },
    {
      "cell_type": "markdown",
      "source": [
        "## Part 2"
      ],
      "metadata": {
        "id": "hZsYSMBtBquQ"
      }
    },
    {
      "cell_type": "code",
      "source": [
        "input = []\n",
        "\n",
        "for line in open('aoc/inputs/day09.txt').read().splitlines():\n",
        "  input.append([9] + [int(x) for x in line] + [9])\n",
        "\n",
        "input.insert(0, [9]*len(input[0]))\n",
        "input.append([9]*len(input[0]))\n",
        "\n",
        "rows = len(input)\n",
        "columns = len(input[0])\n",
        "\n",
        "# r,c -> top, right, bottom, left\n",
        "diff = ((-1,0),(0,1),(1,0),(0,-1))\n",
        "\n",
        "visited = []\n",
        "\n",
        "def adjacents(r,c):\n",
        "  neight = []\n",
        "  for dr, dc in diff:\n",
        "    nr = r + dr\n",
        "    nc = c + dc\n",
        "    if input[nr][nc] != 9 and (nr, nc) not in visited:\n",
        "      neight.append((nr, nc))\n",
        "  return neight\n",
        "\n",
        "def fill_basin(r,c):\n",
        "  stack = [(r,c)]\n",
        "  size = 0\n",
        "  while stack:\n",
        "    cells = stack[:]\n",
        "    stack = []\n",
        "    size += len(cells)\n",
        "\n",
        "    for cell in cells:\n",
        "      adj_cells = adjacents(*cell)\n",
        "      for adj_cell in adj_cells:\n",
        "        if adj_cell not in stack:\n",
        "          stack.append(adj_cell)\n",
        "\n",
        "    visited.extend(cells)\n",
        "  return size\n",
        "\n",
        "basins = []\n",
        "for r in range(rows):\n",
        "  for c in range(columns):\n",
        "    if input[r][c] != 9 and (r, c) not in visited:\n",
        "      basins.append(fill_basin(r, c))\n",
        "\n",
        "basins.sort()\n",
        "\n",
        "print(f\"Result: {basins[-1] * basins[-2] * basins[-3]}\")"
      ],
      "metadata": {
        "colab": {
          "base_uri": "https://localhost:8080/"
        },
        "id": "g8j0svsh2i9x",
        "outputId": "c3e39b6a-fdca-4358-8143-0d330b329794"
      },
      "execution_count": null,
      "outputs": [
        {
          "output_type": "stream",
          "name": "stdout",
          "text": [
            "Result: 1148965\n"
          ]
        }
      ]
    },
    {
      "cell_type": "markdown",
      "source": [
        "# Day 10"
      ],
      "metadata": {
        "id": "maigUYhQvsod"
      }
    },
    {
      "cell_type": "code",
      "source": [
        "input = []\n",
        "\n",
        "for line in open('aoc/inputs/day10.txt').read().splitlines():\n",
        "  input.append(list(line))\n",
        "\n",
        "def match(a, b):\n",
        "  if a =='{' and b == '}':\n",
        "    return True\n",
        "  elif a =='(' and b == ')':\n",
        "    return True\n",
        "  elif a =='[' and b == ']':\n",
        "    return True\n",
        "  elif a =='<' and b == '>':\n",
        "    return True\n",
        "  return False\n",
        "\n",
        "def check_line(line):\n",
        "  stack = []\n",
        "  a_score, b_score = 0, 0\n",
        "  while line:\n",
        "    next = line.pop(0)\n",
        "    if next == '{' or next == '(' or next == '[' or next == '<':\n",
        "      stack.append(next)\n",
        "    else:\n",
        "      pair = stack.pop()\n",
        "      if not match(pair, next):\n",
        "        # Corrupted\n",
        "        if next == ')': a_score = 3\n",
        "        if next == ']': a_score = 57\n",
        "        if next == '}': a_score = 1197\n",
        "        if next == '>': a_score = 25137\n",
        "        break\n",
        "  if stack:\n",
        "    # Incomplete\n",
        "    while stack:\n",
        "      complete = stack.pop()\n",
        "      points = 0\n",
        "      if complete == '[': points = 2\n",
        "      if complete == '(': points = 1\n",
        "      if complete == '{': points = 3\n",
        "      if complete == '<': points = 4\n",
        "      b_score = b_score * 5 + points\n",
        "  return (a_score, b_score)\n",
        "\n",
        "a_scores = []\n",
        "b_scores = []\n",
        "for line in input:\n",
        "  a, b = check_line(line)\n",
        "  if a != 0:\n",
        "    a_scores.append(a)\n",
        "  else:\n",
        "    b_scores.append(b)\n",
        "\n",
        "b_scores.sort()\n",
        "\n",
        "print(f\"Part 1 result: {sum(a_scores)}\")\n",
        "print(f\"Part 2 result: {b_scores[len(b_scores)//2]}\")"
      ],
      "metadata": {
        "colab": {
          "base_uri": "https://localhost:8080/"
        },
        "id": "Usj0LBpvCFuX",
        "outputId": "939ccd57-0674-4e63-ff87-b5cfde203ca1"
      },
      "execution_count": null,
      "outputs": [
        {
          "output_type": "stream",
          "name": "stdout",
          "text": [
            "Part 1 result: 318099\n",
            "Part 2 result: 2389738699\n"
          ]
        }
      ]
    },
    {
      "cell_type": "markdown",
      "source": [
        "# Day 11"
      ],
      "metadata": {
        "id": "iUnOXRWc53Io"
      }
    },
    {
      "cell_type": "code",
      "source": [
        "input = []\n",
        "\n",
        "for line in open('aoc/inputs/day11.txt').read().splitlines():\n",
        "  input.append([int(x) for x in line])\n",
        "\n",
        "rows = len(input)\n",
        "columns = len(input[0])\n",
        "\n",
        "# r,c -> top, top-right, right, botom-right, bottom, bottom-left, left, top-left\n",
        "diff = ((-1,0),(-1,1),(0,1),(1,1),(1,0),(1,-1),(0,-1),(-1,-1))\n",
        "\n",
        "def inc_adjacent(r, c, flashed):\n",
        "  for dr, dc in diff:\n",
        "    nr = r + dr\n",
        "    nc = c + dc\n",
        "    if nc < 0 or nr < 0 or nc >= columns or nr >= rows or (nr,nc) in flashed:\n",
        "      continue\n",
        "    input[nr][nc] += 1\n",
        "\n",
        "def get_adjacent(r, c):\n",
        "  adj = []\n",
        "  for dr, dc in diff:\n",
        "    nr = r + dr\n",
        "    nc = c + dc\n",
        "    if nc < 0 or nr < 0 or nc >= columns or nr >= rows:\n",
        "      continue\n",
        "    adj.append((r, c))\n",
        "  return adj\n",
        "\n",
        "def print_step():\n",
        "  for r in range(rows):\n",
        "    print(input[r])\n",
        "\n",
        "def step():\n",
        "  count = 0\n",
        "  flashed = []\n",
        "\n",
        "  for r in range(rows):\n",
        "    for c in range(columns):\n",
        "      input[r][c] += 1\n",
        "  \n",
        "  done = False\n",
        "\n",
        "  while not done:\n",
        "    done = True\n",
        "    for r in range(rows):\n",
        "      for c in range(columns):\n",
        "        if input[r][c] > 9 and (r,c) not in flashed:\n",
        "          done = False\n",
        "          stack = [(r,c)]\n",
        "          while stack:\n",
        "            oct = stack.pop()\n",
        "            count += 1\n",
        "            input[r][c] = 0\n",
        "            flashed.append(oct)\n",
        "\n",
        "            inc_adjacent(r, c, flashed)\n",
        "            \n",
        "            for adj in get_adjacent(r, c):\n",
        "              rr, cc = adj\n",
        "              if adj not in flashed and input[rr][cc] > 9:\n",
        "                stack.append((rr,cc))\n",
        "  return count\n",
        "\n",
        "flashes = 0\n",
        "\n",
        "# for i in range(100):\n",
        "#   flashes += step()\n",
        "# print(f\"Part 1 result: {flashes}\")\n",
        "\n",
        "for i in range(100000):\n",
        "  if step() == rows*columns:\n",
        "    print(f\"Part 2 result: {i+1}\")\n",
        "    break\n",
        "\n"
      ],
      "metadata": {
        "colab": {
          "base_uri": "https://localhost:8080/"
        },
        "id": "rWnbxUbtSxlO",
        "outputId": "5c1541fb-78b4-4bb5-94f7-fae09006b024"
      },
      "execution_count": null,
      "outputs": [
        {
          "output_type": "stream",
          "name": "stdout",
          "text": [
            "Part 2 result: 360\n"
          ]
        }
      ]
    },
    {
      "cell_type": "markdown",
      "source": [
        "# Day 12"
      ],
      "metadata": {
        "id": "oazBYuYaDGzy"
      }
    },
    {
      "cell_type": "code",
      "source": [
        "from collections import defaultdict\n",
        "\n",
        "caves = defaultdict(list)\n",
        "\n",
        "for line in open('aoc/inputs/day12.txt').read().splitlines():\n",
        "    l, r = line.split('-')\n",
        "    caves[r] += [l]\n",
        "    caves[l] += [r]\n",
        "\n",
        "paths = []\n",
        "\n",
        "def walk(path, visited):\n",
        "    if path[-1].islower():\n",
        "        visited.add(path[-1])\n",
        "\n",
        "    if path[-1] == \"end\":\n",
        "        paths.append(path)\n",
        "\n",
        "    for next in caves[path[-1]]:\n",
        "        if next not in visited:\n",
        "            walk(path.copy() + [next], visited.copy())\n",
        "\n",
        "walk([\"start\"], set())\n",
        "\n",
        "print(f\"Result: {len(paths)}\")"
      ],
      "metadata": {
        "colab": {
          "base_uri": "https://localhost:8080/"
        },
        "id": "nJFFoQgStKg-",
        "outputId": "1228f8bd-0428-42fe-bc5d-679ec77adf31"
      },
      "execution_count": 88,
      "outputs": [
        {
          "output_type": "stream",
          "name": "stdout",
          "text": [
            "Result: 4573\n"
          ]
        }
      ]
    },
    {
      "cell_type": "code",
      "source": [
        "%%script false --no-raise-error\n",
        "\n",
        "# This tooks ~24s, need optimization\n",
        "\n",
        "from collections import defaultdict\n",
        "\n",
        "caves = defaultdict(list)\n",
        "\n",
        "for line in open('aoc/inputs/day12.txt').read().splitlines():\n",
        "    l, r = line.split('-')\n",
        "    caves[r] += [l]\n",
        "    caves[l] += [r]\n",
        "\n",
        "paths = []\n",
        "\n",
        "\n",
        "def has_doubled_small(path):\n",
        "    smalls = [s for s in path if s.islower() and s != 'start' and s != 'end']\n",
        "    return len(set(smalls)) != len(smalls)\n",
        "\n",
        "\n",
        "def is_path_allowed(path, next):\n",
        "    if next == 'start' and next in path:\n",
        "        return False\n",
        "    if next == 'end' and next in path:\n",
        "        return False\n",
        "    if next.islower() and has_doubled_small(path) and next in path:\n",
        "        return False\n",
        "    return True\n",
        "\n",
        "\n",
        "def walk(path, visited):\n",
        "    if path[-1].islower():\n",
        "        visited.add(path[-1])\n",
        "\n",
        "    if path[-1] == \"end\":\n",
        "        paths.append(path)\n",
        "\n",
        "    for next in caves[path[-1]]:\n",
        "        if is_path_allowed(path, next):\n",
        "            walk(path.copy() + [next], visited.copy())\n",
        "\n",
        "walk([\"start\"], set())\n",
        "\n",
        "print(f\"Result: {len(paths)}\")"
      ],
      "metadata": {
        "colab": {
          "base_uri": "https://localhost:8080/"
        },
        "id": "7WwVZ9pL2djT",
        "outputId": "9564e1a8-7636-4b2b-d81d-11025e46a20c"
      },
      "execution_count": 89,
      "outputs": [
        {
          "output_type": "stream",
          "name": "stdout",
          "text": [
            "Result: 117509\n"
          ]
        }
      ]
    }
  ]
}